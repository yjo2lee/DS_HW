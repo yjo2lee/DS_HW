{
 "cells": [
  {
   "cell_type": "code",
   "execution_count": 2,
   "metadata": {},
   "outputs": [
    {
     "name": "stdout",
     "output_type": "stream",
     "text": [
      "3\n",
      "2\n",
      "2\n"
     ]
    }
   ],
   "source": [
    "#DS_L1_MaxMin\n",
    "class maxMachine :\n",
    "    def __init__(self) :\n",
    "    #인스턴스가 생성되자마자 호출되는 함수\n",
    "        self.myData = []\n",
    "\n",
    "    def addNumber(self, n) :\n",
    "    #self: 해당 instance에 대한 함수야, self이후부터가 인자야\n",
    "    #self 안 붙으면 해당 instance안에서 도는 게 아니야, but class안에서는 호출가능\n",
    "        self.myData.append(n)\n",
    "\n",
    "    def removeNumber(self, n) :\n",
    "        self.myData.remove(n)\n",
    "        #복수개 있을 때 앞에꺼가 지워짐\n",
    "\n",
    "    def getMax(self) :\n",
    "        return max(self.myData)\n",
    "\n",
    "def main():\n",
    "    myMachine = maxMachine()\n",
    "    #바로 init가 호출 -> myMachine.__init__()\n",
    "\n",
    "    myMachine.addNumber(1)\n",
    "    myMachine.addNumber(2)\n",
    "    myMachine.addNumber(3)\n",
    "    myMachine.addNumber(2)\n",
    "\n",
    "    print(myMachine.getMax())\n",
    "\n",
    "    myMachine.removeNumber(3)\n",
    "\n",
    "    print(myMachine.getMax())\n",
    "\n",
    "    myMachine.removeNumber(2)\n",
    "\n",
    "    print(myMachine.getMax())\n",
    "\n",
    "if __name__ == \"__main__\":\n",
    "    main()\n"
   ]
  },
  {
   "cell_type": "code",
   "execution_count": null,
   "metadata": {
    "collapsed": true
   },
   "outputs": [],
   "source": []
  }
 ],
 "metadata": {
  "kernelspec": {
   "display_name": "Python 3",
   "language": "python",
   "name": "python3"
  },
  "language_info": {
   "codemirror_mode": {
    "name": "ipython",
    "version": 3
   },
   "file_extension": ".py",
   "mimetype": "text/x-python",
   "name": "python",
   "nbconvert_exporter": "python",
   "pygments_lexer": "ipython3",
   "version": "3.6.1"
  }
 },
 "nbformat": 4,
 "nbformat_minor": 2
}
